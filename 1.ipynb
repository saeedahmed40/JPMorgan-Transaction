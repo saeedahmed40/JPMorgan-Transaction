{
 "cells": [
  {
   "cell_type": "markdown",
   "metadata": {},
   "source": [
    "# Introduction\n",
    "This Jupyter notebook is designed to load a dataset of financial transactions and create two visualizations to help analyze the data, particularly focusing on the distribution of transaction amounts and their relationship with fraud. Below is an explanation of each component in the notebook:"
   ]
  },
  {
   "cell_type": "markdown",
   "metadata": {},
   "source": [
    "# 1.Import Libraries\n",
    "os: This library is used for interacting with the operating system, specifically to check if the file exists and is in the correct format (CSV).\n",
    "pandas: A powerful data manipulation and analysis library used to load and work with the dataset.\n",
    "matplotlib.pyplot: A plotting library used to create visualizations from the data."
   ]
  },
  {
   "cell_type": "code",
   "execution_count": null,
   "metadata": {},
   "outputs": [],
   "source": [
    "import os\n",
    "import pandas as pd\n",
    "import matplotlib.pyplot as plt"
   ]
  },
  {
   "cell_type": "markdown",
   "metadata": {},
   "source": [
    "# 2. Data Loading (exercise_0)\n",
    "Purpose: This function loads the transaction data from a CSV file into a Pandas DataFrame.\n",
    "Functionality:\n",
    "It checks whether the specified file exists and is a CSV file.\n",
    "If the file exists and is valid, it reads the file into a DataFrame using pd.read_csv().\n",
    "If the file is not found or is not a CSV, it raises an error."
   ]
  },
  {
   "cell_type": "code",
   "execution_count": null,
   "metadata": {},
   "outputs": [],
   "source": [
    "def exercise_0(file_path):\n",
    "    if os.path.exists(file_path) and file_path.endswith('.csv'):\n",
    "        df = pd.read_csv(file_path)\n",
    "        return df\n",
    "    else:\n",
    "        raise FileNotFoundError(\"The specified file does not exist or is not a CSV file.\")"
   ]
  },
  {
   "cell_type": "markdown",
   "metadata": {},
   "source": [
    "# 3. Visualization 1 (visual_1)\n",
    "Purpose: This function creates two bar plots to visualize the distribution of transaction amounts and their breakdown by fraud status.\n",
    "Functionality:\n",
    "transaction_counts: Calculates the count of transactions for each unique value in the amount column.\n",
    "transaction_counts_split_by_fraud: Groups transactions by amount and splits them based on whether they are fraudulent (using the isFraud column).\n",
    "Subplots:\n",
    "The first subplot shows a bar plot of overall transaction counts by amount.\n",
    "The second subplot shows a bar plot of transaction counts by amount, further divided by fraud status (isFraud).\n",
    "The plots include titles, labels, and legends, and each bar is annotated with its corresponding count for clarity."
   ]
  },
  {
   "cell_type": "code",
   "execution_count": null,
   "metadata": {},
   "outputs": [],
   "source": [
    "def visual_1(df):\n",
    "    ...\n",
    "    plt.show()\n"
   ]
  },
  {
   "cell_type": "markdown",
   "metadata": {},
   "source": [
    "# 4. Visualization 2 (visual_2)\n",
    "Purpose: This function creates a scatter plot to explore the relationship between transaction amounts and the original balance from which the transaction originated (oldbalanceOrg).\n",
    "Functionality:\n",
    "Data Filtering: Filters the DataFrame to include only rows where the amount is greater than 0, ensuring meaningful data points for the scatter plot.\n",
    "Scatter Plot:\n",
    "The x-axis represents the amount of the transaction.\n",
    "The y-axis represents the oldbalanceOrg (original balance before the transaction).\n",
    "The plot includes a title and axis labels, with axis limits set to avoid negative values."
   ]
  },
  {
   "cell_type": "code",
   "execution_count": null,
   "metadata": {},
   "outputs": [],
   "source": [
    "def visual_2(df):\n",
    "    ...\n",
    "    plt.show()\n"
   ]
  },
  {
   "cell_type": "markdown",
   "metadata": {},
   "source": [
    "# 5. Main Execution\n",
    "Purpose: This section executes the notebook's main functions.\n",
    "Functionality:\n",
    "Data Loading: Calls exercise_0() to load the dataset from transactions.csv into the DataFrame df.\n",
    "Generate Visualizations: Calls visual_1(df) and visual_2(df) to create and display the visualizations."
   ]
  },
  {
   "cell_type": "code",
   "execution_count": null,
   "metadata": {},
   "outputs": [],
   "source": [
    "if __name__ == \"__main__\":\n",
    "    file_path = 'transactions.csv'\n",
    "    df = exercise_0(file_path)\n",
    "    visual_1(df)\n",
    "    visual_2(df)"
   ]
  },
  {
   "cell_type": "markdown",
   "metadata": {},
   "source": [
    "# Complete Code & Summary\n",
    "This notebook provides a structured approach to load and analyze a dataset of financial transactions. The first visualization helps to understand the distribution of transaction amounts and the occurrence of fraud within different transaction amounts. The second visualization examines the relationship between transaction amounts and the original balance, which may provide insights into transaction patterns and potential fraud detection.\n",
    "\n",
    "To use the notebook, simply place the transaction data in a file named transactions.csv (or modify the file_path), and run the cells to load the data and generate the visualizations."
   ]
  },
  {
   "cell_type": "code",
   "execution_count": null,
   "metadata": {},
   "outputs": [],
   "source": [
    "# Import necessary libraries\n",
    "import os\n",
    "import pandas as pd\n",
    "import matplotlib.pyplot as plt\n",
    "\n",
    "# Function to load data\n",
    "def exercise_0(file_path):\n",
    "    \"\"\"\n",
    "    Function to load data from a CSV file into a Pandas DataFrame.\n",
    "    \n",
    "    Parameters:\n",
    "    file_path (str): The path to the CSV file.\n",
    "    \n",
    "    Returns:\n",
    "    df (DataFrame): The loaded DataFrame.\n",
    "    \"\"\"\n",
    "    if os.path.exists(file_path) and file_path.endswith('.csv'):\n",
    "        df = pd.read_csv(file_path)\n",
    "        return df\n",
    "    else:\n",
    "        raise FileNotFoundError(\"The specified file does not exist or is not a CSV file.\")\n",
    "\n",
    "# Visualization 1\n",
    "def visual_1(df):\n",
    "    \"\"\"\n",
    "    Creates visualizations showing transaction counts overall and split by fraud status.\n",
    "    \n",
    "    Parameters:\n",
    "    df (DataFrame): The DataFrame containing the transaction data.\n",
    "    \"\"\"\n",
    "    # Calculate transaction counts by 'amount'\n",
    "    transaction_counts = df['amount'].value_counts().sort_index()\n",
    "    \n",
    "    # Calculate transaction counts by 'amount', split by fraud status\n",
    "    transaction_counts_split_by_fraud = df.groupby(['amount', 'isFraud']).size().unstack(fill_value=0)\n",
    "    \n",
    "    # Create subplots\n",
    "    fig, axes = plt.subplots(2, 1, figsize=(10, 10))\n",
    "    \n",
    "    # Plot overall transaction counts by 'amount'\n",
    "    axes[0].bar(transaction_counts.index, transaction_counts.values)\n",
    "    axes[0].set_title('Transaction Counts by Amount')\n",
    "    axes[0].set_xlabel('Amount')\n",
    "    axes[0].set_ylabel('Number of Transactions')\n",
    "    \n",
    "    # Annotate bars\n",
    "    for i, v in enumerate(transaction_counts.values):\n",
    "        axes[0].text(transaction_counts.index[i], v + 0.5, str(v), ha='center')\n",
    "    \n",
    "    # Plot transaction counts by 'amount' split by fraud status\n",
    "    transaction_counts_split_by_fraud.plot(kind='bar', stacked=True, ax=axes[1])\n",
    "    axes[1].set_title('Transaction Counts by Amount and Fraud Status')\n",
    "    axes[1].set_xlabel('Amount')\n",
    "    axes[1].set_ylabel('Number of Transactions')\n",
    "    axes[1].legend(title='Fraud Status')\n",
    "    \n",
    "    # Annotate bars\n",
    "    for i, amount in enumerate(transaction_counts_split_by_fraud.index):\n",
    "        total = transaction_counts_split_by_fraud.loc[amount].sum()\n",
    "        axes[1].text(i, total + 0.5, str(total), ha='center')\n",
    "    \n",
    "    plt.tight_layout()\n",
    "    plt.show()\n",
    "\n",
    "# Visualization 2\n",
    "def visual_2(df):\n",
    "    \"\"\"\n",
    "    Creates a scatter plot of 'amount' vs. 'oldbalanceOrg'.\n",
    "    \n",
    "    Parameters:\n",
    "    df (DataFrame): The DataFrame containing the transaction data.\n",
    "    \"\"\"\n",
    "    # Filter for rows where 'amount' > 0\n",
    "    query = df[df['amount'] > 0]\n",
    "    \n",
    "    # Create scatter plot\n",
    "    plt.figure(figsize=(10, 6))\n",
    "    plt.scatter(query['amount'], query['oldbalanceOrg'], alpha=0.5)\n",
    "    plt.title('Scatter Plot of Amount vs. Old Balance Origin')\n",
    "    plt.xlabel('Amount')\n",
    "    plt.ylabel('Old Balance Origin')\n",
    "    plt.xlim(left=0)\n",
    "    plt.ylim(bottom=0)\n",
    "    plt.show()\n",
    "\n",
    "# Main execution\n",
    "if __name__ == \"__main__\":\n",
    "    # Load the data\n",
    "    file_path = 'transactions.csv'\n",
    "    df = exercise_0(file_path)\n",
    "    \n",
    "    # Generate visualizations\n",
    "    visual_1(df)\n",
    "    visual_2(df)\n"
   ]
  }
 ],
 "metadata": {
  "language_info": {
   "name": "python"
  }
 },
 "nbformat": 4,
 "nbformat_minor": 2
}
